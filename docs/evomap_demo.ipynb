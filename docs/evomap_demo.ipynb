{
  "cells": [
    {
      "cell_type": "code",
      "execution_count": 1,
      "metadata": {
        "id": "A9hK8gnKYWk3",
        "outputId": "6c7f1ebd-3a30-4b59-a07e-bcf177d78606",
        "colab": {
          "base_uri": "https://localhost:8080/"
        }
      },
      "outputs": [
        {
          "output_type": "stream",
          "name": "stdout",
          "text": [
            "Collecting evomap\n",
            "  Downloading evomap-0.4.6-py3-none-any.whl.metadata (5.8 kB)\n",
            "Requirement already satisfied: cycler in /usr/local/lib/python3.11/dist-packages (from evomap) (0.12.1)\n",
            "Requirement already satisfied: matplotlib in /usr/local/lib/python3.11/dist-packages (from evomap) (3.10.0)\n",
            "Requirement already satisfied: scipy<=1.15.3 in /usr/local/lib/python3.11/dist-packages (from evomap) (1.15.3)\n",
            "Requirement already satisfied: numba in /usr/local/lib/python3.11/dist-packages (from evomap) (0.60.0)\n",
            "Requirement already satisfied: numpy in /usr/local/lib/python3.11/dist-packages (from evomap) (2.0.2)\n",
            "Requirement already satisfied: pandas in /usr/local/lib/python3.11/dist-packages (from evomap) (2.2.2)\n",
            "Requirement already satisfied: scikit-learn in /usr/local/lib/python3.11/dist-packages (from evomap) (1.6.1)\n",
            "Requirement already satisfied: seaborn in /usr/local/lib/python3.11/dist-packages (from evomap) (0.13.2)\n",
            "Requirement already satisfied: statsmodels in /usr/local/lib/python3.11/dist-packages (from evomap) (0.14.4)\n",
            "Requirement already satisfied: contourpy>=1.0.1 in /usr/local/lib/python3.11/dist-packages (from matplotlib->evomap) (1.3.2)\n",
            "Requirement already satisfied: fonttools>=4.22.0 in /usr/local/lib/python3.11/dist-packages (from matplotlib->evomap) (4.58.4)\n",
            "Requirement already satisfied: kiwisolver>=1.3.1 in /usr/local/lib/python3.11/dist-packages (from matplotlib->evomap) (1.4.8)\n",
            "Requirement already satisfied: packaging>=20.0 in /usr/local/lib/python3.11/dist-packages (from matplotlib->evomap) (24.2)\n",
            "Requirement already satisfied: pillow>=8 in /usr/local/lib/python3.11/dist-packages (from matplotlib->evomap) (11.2.1)\n",
            "Requirement already satisfied: pyparsing>=2.3.1 in /usr/local/lib/python3.11/dist-packages (from matplotlib->evomap) (3.2.3)\n",
            "Requirement already satisfied: python-dateutil>=2.7 in /usr/local/lib/python3.11/dist-packages (from matplotlib->evomap) (2.9.0.post0)\n",
            "Requirement already satisfied: llvmlite<0.44,>=0.43.0dev0 in /usr/local/lib/python3.11/dist-packages (from numba->evomap) (0.43.0)\n",
            "Requirement already satisfied: pytz>=2020.1 in /usr/local/lib/python3.11/dist-packages (from pandas->evomap) (2025.2)\n",
            "Requirement already satisfied: tzdata>=2022.7 in /usr/local/lib/python3.11/dist-packages (from pandas->evomap) (2025.2)\n",
            "Requirement already satisfied: joblib>=1.2.0 in /usr/local/lib/python3.11/dist-packages (from scikit-learn->evomap) (1.5.1)\n",
            "Requirement already satisfied: threadpoolctl>=3.1.0 in /usr/local/lib/python3.11/dist-packages (from scikit-learn->evomap) (3.6.0)\n",
            "Requirement already satisfied: patsy>=0.5.6 in /usr/local/lib/python3.11/dist-packages (from statsmodels->evomap) (1.0.1)\n",
            "Requirement already satisfied: six>=1.5 in /usr/local/lib/python3.11/dist-packages (from python-dateutil>=2.7->matplotlib->evomap) (1.17.0)\n",
            "Downloading evomap-0.4.6-py3-none-any.whl (6.7 MB)\n",
            "\u001b[2K   \u001b[90m━━━━━━━━━━━━━━━━━━━━━━━━━━━━━━━━━━━━━━━━\u001b[0m \u001b[32m6.7/6.7 MB\u001b[0m \u001b[31m12.5 MB/s\u001b[0m eta \u001b[36m0:00:00\u001b[0m\n",
            "\u001b[?25hInstalling collected packages: evomap\n",
            "Successfully installed evomap-0.4.6\n"
          ]
        }
      ],
      "source": [
        "!pip install evomap"
      ]
    },
    {
      "cell_type": "markdown",
      "metadata": {
        "id": "-g9rGPDEYWk4"
      },
      "source": [
        "# About\n",
        "\n",
        "This script replicates the paper: 'evomap - a Toolbox for Dynamic Mapping in Python'.\n",
        "\n",
        "All code was last run on MacOS 13.5.2 using Python version 3.12.0 evomap version 0.4.4\n"
      ]
    },
    {
      "cell_type": "markdown",
      "metadata": {
        "id": "GnEO-WYAYWk4"
      },
      "source": [
        "# Setup"
      ]
    },
    {
      "cell_type": "code",
      "execution_count": 4,
      "metadata": {
        "id": "Oua22XsCYWk4"
      },
      "outputs": [],
      "source": [
        "\n",
        "# First, create path variabels for each subfolder and import the essential packages.\n",
        "\n",
        "import time\n",
        "\n",
        "start_time = time.time()\n",
        "\n",
        "import pandas as pd\n",
        "import numpy as np\n",
        "import matplotlib\n",
        "from matplotlib import pyplot as plt\n",
        "import os\n",
        "\n"
      ]
    },
    {
      "cell_type": "code",
      "execution_count": 6,
      "metadata": {
        "id": "HebbksFOYWk5",
        "outputId": "b06e8089-fff8-474e-9041-daf844317b71",
        "colab": {
          "base_uri": "https://localhost:8080/"
        }
      },
      "outputs": [
        {
          "output_type": "stream",
          "name": "stdout",
          "text": [
            "No figures will be saved\n"
          ]
        }
      ],
      "source": [
        "save_to = False # Options: 'local', 'drive'\n",
        "\n",
        "if save_to == 'local':\n",
        "    PATH_HOME = os.path.dirname(os.path.dirname(os.path.abspath(__file__))) # parent folder\n",
        "    PATH_OUT = os.path.join(PATH_HOME, 'gen') # output folder\n",
        "    if not os.path.exists(PATH_OUT):\n",
        "        os.makedirs(PATH_OUT)\n",
        "\n",
        "    # Clear /gen folder of output from previous runs\n",
        "    for file in os.listdir(PATH_OUT):\n",
        "        os.remove(os.path.join(PATH_OUT, file))\n",
        "\n",
        "elif save_to == 'drive':\n",
        "\tcurrent_path = '/content/drive/My Drive/Colab Notebooks'\n",
        "\tfrom google.colab import drive\n",
        "\timport sys\n",
        "\tdrive.mount('/content/drive')\n",
        "\tsys.path.append(current_path)\n",
        "elif save_to == False:\n",
        "     print('No figures will be saved')\n",
        ""
      ]
    },
    {
      "cell_type": "code",
      "execution_count": 7,
      "metadata": {
        "id": "QI6IZZxSYWk5"
      },
      "outputs": [],
      "source": [
        "# Plotting parameters\n",
        "title_fontdict = {'size': 20, 'family': 'sans-serif'}\n",
        "title_fontdict_large = {'size': 22, 'family': 'sans-serif'}\n",
        "label_fontdict = {'size': 18, 'family': 'sans-serif'}\n",
        "label_fontdict_large = {'size': 20, 'family': 'sans-serif'}\n"
      ]
    },
    {
      "cell_type": "code",
      "execution_count": 8,
      "metadata": {
        "id": "t4TNXhvXYWk5"
      },
      "outputs": [],
      "source": [
        "# Set random seed for reproducibility\n",
        "np.random.seed(111)"
      ]
    },
    {
      "cell_type": "markdown",
      "metadata": {
        "id": "6f3h53t4YWk5"
      },
      "source": [
        "# Part 1: Illustration of Static vs. Dynamic Mapping\n",
        "\n",
        "The following code displays the necessary steps to generate the output shown in section 2 of the paper ('background on mapping')."
      ]
    },
    {
      "cell_type": "markdown",
      "metadata": {
        "id": "peAdD6l6YWk5"
      },
      "source": [
        "## Loading the Data"
      ]
    },
    {
      "cell_type": "code",
      "execution_count": null,
      "metadata": {
        "id": "clV6LybyYWk5"
      },
      "outputs": [],
      "source": [
        "# For most of this illustration, we use a small sample from the TNIC data available through the dataset submodule.\n",
        "from evomap.datasets import load_tnic_sample_tech\n",
        "data = load_tnic_sample_tech()\n",
        "display(data)\n",
        "\n",
        "# The sample is organized as an edgelist where each observation corresponds to a single firm-firm pair.\n",
        "# It contains a total of 9 firms and their pairiwse relationships over 20 years.\n",
        "print(data.groupby('name1').agg({'year':'nunique'}))"
      ]
    },
    {
      "cell_type": "code",
      "execution_count": null,
      "metadata": {
        "id": "d3J6h7FzYWk5"
      },
      "outputs": [],
      "source": [
        "# First, transform the edgelist into a sequence of similarity matrices\n",
        "from evomap.preprocessing import edgelist2matrices\n",
        "S_t, labels_t = edgelist2matrices(\n",
        "    data,\n",
        "    score_var = 'score',\n",
        "    id_var_i = 'name1',\n",
        "    id_var_j = 'name2',\n",
        "    time_var = 'year')\n",
        "\n",
        "# The result is a sequence of matrices and a sequence of labels.\n",
        "# As the sample is balanced, all labels remain the same over time in this example.\n",
        "# Therefore, we simply use the first list of labels in what follows.\n",
        "labels = labels_t[0]\n",
        "print(labels)\n",
        "\n",
        "# Preview of a single similarity matrix:\n",
        "print(S_t[0].round(2))\n",
        "\n",
        "# To map this similarity matrix via MDS, we first transform it into dissimilarities using the sim2diss function\n",
        "# from the preprocessing submodule.\n",
        "from evomap.preprocessing import sim2diss\n",
        "D_t = [sim2diss(S, transformation = 'mirror') for S in S_t]\n",
        "\n"
      ]
    },
    {
      "cell_type": "markdown",
      "metadata": {
        "id": "VMhCSE4gYWk5"
      },
      "source": [
        "## Illustration of Static Mapping"
      ]
    },
    {
      "cell_type": "code",
      "execution_count": null,
      "metadata": {
        "id": "lAoZYOr5YWk6"
      },
      "outputs": [],
      "source": [
        "# Next, we create static snapshots of these matrices using MDS.\n",
        "periods = data.year.unique()\n",
        "n_periods = len(periods)\n",
        "n_samples = len(labels)\n",
        "D_0 = D_t[0]\n",
        "print(\"First snapshot corresponds to the year {0}\".format(periods[0]))"
      ]
    },
    {
      "cell_type": "code",
      "execution_count": null,
      "metadata": {
        "id": "2MLEcJokYWk6"
      },
      "outputs": [],
      "source": [
        "# Here, we use non-metric ordinal MDS, initialized via Classical Scaling.\n",
        "from evomap.mapping import MDS\n",
        "mds = MDS(mds_type = 'ordinal', init = 'cmds', verbose = True)\n",
        "X_0 = mds.fit_transform(D_0)"
      ]
    },
    {
      "cell_type": "code",
      "execution_count": null,
      "metadata": {
        "id": "mVIHk0naYWk6"
      },
      "outputs": [],
      "source": [
        "X_0"
      ]
    },
    {
      "cell_type": "code",
      "execution_count": null,
      "metadata": {
        "id": "5Agxv6uSYWk6"
      },
      "outputs": [],
      "source": [
        "# To display the results, first draw a single snapshot.\n",
        "from matplotlib import pyplot as plt\n",
        "from evomap.printer import draw_map\n",
        "fig, ax = plt.subplots(1,2, figsize = (16,8))\n",
        "draw_map(\n",
        "    X_0,\n",
        "    label = labels,\n",
        "    show_axes = True,\n",
        "    axes_at_origin = False,\n",
        "    show_grid = False,\n",
        "    ax = ax[0])\n",
        "ax[0].set_title('A: Static MDS Map \\n', fontdict= title_fontdict_large)\n",
        "\n",
        "# Wiggle labels a bit for AT&T and US CELLUAR to prevent overlap\n",
        "offset_x = 0.0\n",
        "offset_y = 0.03\n",
        "texts = ax[0].texts\n",
        "for text in texts:\n",
        "    label_text = text.get_text()\n",
        "    if label_text == 'US CELLULAR CORP':\n",
        "        x, y = text.get_position()\n",
        "        text.set_position((x + offset_x, y + offset_y))\n",
        "    elif label_text == 'AT&T INC':\n",
        "        x, y = text.get_position()\n",
        "        text.set_position((x + offset_x, y - offset_y))\n",
        "\n",
        "# Then, add the Shepard diagram to evaluate the snapshot's mapping quality.\n",
        "from evomap.printer import draw_shepard_diagram\n",
        "draw_shepard_diagram(X_0, D_0, ax = ax[1])\n",
        "ax[1].set_title('B: Shepard Diagram \\n', fontdict= title_fontdict_large)\n",
        "ax[1].legend(['Observed dissimilarities', 'Transformed dissimilariites'], loc = 4, prop = label_fontdict)\n",
        "fig.tight_layout()\n",
        "fig.show()\n",
        "\n",
        "print(\"Final Stress value: {0:.2f}\".format(mds.cost_))\n",
        "\n",
        "if save_to:\n",
        "    # Save the Figure as Figure 1 of the Paper.\n",
        "    fig.savefig(os.path.join(PATH_OUT, 'Fig1_static_mapping.PNG'), dpi = 300)"
      ]
    },
    {
      "cell_type": "markdown",
      "metadata": {
        "id": "GdYcNMh3YWk6"
      },
      "source": [
        "## Dynamic Mapping via EvoMap"
      ]
    },
    {
      "cell_type": "code",
      "execution_count": null,
      "metadata": {
        "id": "pmAKnriXYWk6"
      },
      "outputs": [],
      "source": [
        "# To illustrate Dynamic Mapping, we apply EvoMap, implemented for MDS, to the entire sequence of matrices.\n",
        "#\n",
        "# The input data consists of a sequence of 20 dissimilarity matrices, each of shape (9,9)\n",
        "print(len(D_t))\n",
        "print(D_t[0].shape)\n",
        "\n",
        "# First, we generate a sequence of starting configurations using Classical Scaling applied to the first period.\n",
        "from evomap.mapping import CMDS\n",
        "cmds_t = []\n",
        "cmds = CMDS().fit_transform(D_t[0])\n",
        "for t in range(n_periods):\n",
        "    cmds_t.append(cmds)\n",
        "\n",
        "# Then, we apply EvoMap. Here, we set the alignment penalty (alpha) to .2, and add some smoothing by increasing p to 2:\n",
        "from evomap.mapping import EvoMDS\n",
        "evomds = EvoMDS(\n",
        "    alpha = .2,\n",
        "    p = 2,\n",
        "    mds_type = 'ordinal',\n",
        "    init = cmds_t)\n",
        "X_t = evomds.fit_transform(D_t)\n",
        "\n",
        "print(len(X_t))\n",
        "print(X_t[0].shape)\n",
        "\n",
        "fig, ax = plt.subplots(1,2, figsize = (14, 6))\n",
        "draw_map(X_t[0], label = labels, show_axes=True, show_box = True, ax = ax[0])\n",
        "\n",
        "from evomap.printer import draw_dynamic_map\n",
        "draw_dynamic_map(X_t,\n",
        "                 label=labels,\n",
        "                 show_axes=True,\n",
        "                 show_last_positions_only=True,\n",
        "                 show_arrows=True,\n",
        "                 ax = ax[1])\n",
        "\n",
        "ax[0].set_title('A: Snapshot in {}'.format(periods[0]), fontdict = title_fontdict)\n",
        "ax[1].set_title('B: Trajectories throughout {0} to {1}'.format(periods[0], periods[-1]), fontdict = title_fontdict)\n",
        "\n",
        "fig.tight_layout()\n",
        "plt.show()\n",
        "\n",
        "\n",
        "if save_to:\n",
        "    # Save the Figure as Figure 2 in the paper.\n",
        "    fig.savefig(os.path.join(PATH_OUT, 'Fig2_dynamic_mapping.PNG'), dpi = 300)\n",
        "print(\"The maps represent the evolving positions over {0} years between {1} and {2}\".format(n_periods, periods[0], periods[-1]))\n",
        "\n"
      ]
    },
    {
      "cell_type": "markdown",
      "metadata": {
        "id": "ugcYAC2gYWk6"
      },
      "source": [
        "# Part 2: Detailed Usage Example"
      ]
    },
    {
      "cell_type": "code",
      "execution_count": null,
      "metadata": {
        "id": "-aIVpXkpYWk6"
      },
      "outputs": [],
      "source": [
        "# This part goes through each step performed above in more detail.\n",
        "\n",
        "# ## Basic Syntax\n",
        "#\n",
        "# The basic usecase of EvoMap is creating dynamic maps of evolving relationship data, like the following:\n",
        "evomds = EvoMDS(\n",
        "    alpha = .2,\n",
        "    p = 2,\n",
        "    mds_type = 'ordinal',\n",
        "    init = cmds_t)\n",
        "X_t = evomds.fit_transform(D_t)\n",
        "\n",
        "draw_dynamic_map(X_t,\n",
        "                 label=labels,\n",
        "                 show_arrows=True,\n",
        "                 show_axes=True)\n",
        "\n",
        "fig, ax = plt.subplots(figsize = (6,6))\n",
        "draw_dynamic_map(X_t, label = labels, show_arrows= True, show_axes = True, ax = ax)\n",
        "plt.show()\n",
        "if save_to:\n",
        "    fig.savefig(os.path.join(PATH_OUT, 'Fig3_dynamic_map.PNG'), dpi = 300)"
      ]
    },
    {
      "cell_type": "markdown",
      "metadata": {
        "id": "3cyqGuyuYWk6"
      },
      "source": [
        "## Preprocessing"
      ]
    },
    {
      "cell_type": "code",
      "execution_count": null,
      "metadata": {
        "id": "_E1nEndCYWk6"
      },
      "outputs": [],
      "source": [
        "\n",
        "# Before applying EvoMap, all input data needs to be formatted as a sequence of square matrices.\n",
        "#\n",
        "# Here, our data is represented as an edgelist:\n",
        "table_overview = pd.concat([data.head(), data.tail()], axis = 0)\n",
        "table_overview = table_overview[['year', 'name1', 'name2', 'score', 'sic1', 'sic2', 'size1', 'size2']]\n",
        "table_overview.size1 = table_overview.size1.round(2)\n",
        "table_overview.size2 = table_overview.size2.round(2)\n",
        "print(table_overview)\n",
        "\n",
        "table_overview.to_csv(os.path.join(PATH_OUT, \"table2-data-overview.csv\"))\n",
        "\n",
        "# The basic syntax to use evomap consists of the following lines of code, which instantinates the method and fits it to the data. Note that the import statement is not necessary here, as we imported the class before, but only included for completeness of this minimal example.\n",
        "from evomap.mapping import EvoMDS\n",
        "evomds = EvoMDS(\n",
        "    alpha = .2,\n",
        "    p = 2,\n",
        "    mds_type = 'ordinal',\n",
        "    init = cmds_t)\n",
        "X_t = evomds.fit_transform(D_t)\n",
        "\n",
        "# The output is a list of arrays shape (n_samples, n_dims)\n",
        "print(type(X_t))\n",
        "print(len(X_t))\n",
        "print(X_t[0].round(2))"
      ]
    },
    {
      "cell_type": "markdown",
      "metadata": {
        "id": "l04mXQRaYWk6"
      },
      "source": [
        "## Hyperparameters"
      ]
    },
    {
      "cell_type": "code",
      "execution_count": null,
      "metadata": {
        "id": "r-KETDzKYWk6"
      },
      "outputs": [],
      "source": [
        "# A crucial task when running EvoMap is to find suitable values for its hyperparameters.\n",
        "#\n",
        "# Here, we illustrate the effect that varying values of these hyperparamters have on EvoMap's output:\n",
        "\n",
        "# Varying levels of alpha:\n",
        "X_t_low_alpha = EvoMDS(alpha = 0.01, mds_type = 'ordinal', init = cmds_t).fit_transform(D_t)\n",
        "X_t_mid_alpha = EvoMDS(alpha = 0.2, mds_type = 'ordinal', init = cmds_t).fit_transform(D_t)\n",
        "X_t_high_alpha = EvoMDS(alpha = 1.5, mds_type = 'ordinal', init = cmds_t).fit_transform(D_t)\n",
        "\n",
        "# Varying levels of p:\n",
        "X_t_p1 = EvoMDS(alpha = .2, p = 1, mds_type = 'ordinal', init = cmds_t).fit_transform(D_t)\n",
        "X_t_p2 = EvoMDS(alpha = .2, p = 2, mds_type = 'ordinal', init = cmds_t).fit_transform(D_t)\n",
        "X_t_p3 = EvoMDS(alpha = .2, p = 3, mds_type = 'ordinal', init = cmds_t).fit_transform(D_t)\n",
        "\n",
        "# Plot results:\n",
        "\n",
        "from evomap.printer import draw_trajectories\n",
        "fig, ax = plt.subplots(2,3,figsize = (18,12))\n",
        "\n",
        "draw_trajectories(X_t_low_alpha, show_axes= True, labels = labels, period_labels= periods, ax = ax[0,0])\n",
        "draw_trajectories(X_t_mid_alpha, labels = labels, period_labels = periods, show_axes=True, ax = ax[0,1])\n",
        "draw_trajectories(X_t_high_alpha, labels = labels, period_labels = periods, show_axes = True, ax = ax[0,2])\n",
        "\n",
        "draw_trajectories(X_t_p1, show_axes= True, labels = labels, period_labels= periods, ax = ax[1,0])\n",
        "draw_trajectories(X_t_p2, labels = labels, period_labels = periods, show_axes=True, ax = ax[1,1])\n",
        "draw_trajectories(X_t_p3, labels = labels, period_labels = periods, show_axes = True, ax = ax[1,2])\n",
        "\n",
        "ax[0,0].set_title('Solution A: \\nLow Alpha / p = 1\\n', fontdict = title_fontdict)\n",
        "ax[0,1].set_title('Solution B: \\nMedium Alpha / p = 1\\n', fontdict = title_fontdict)\n",
        "ax[0,2].set_title('Solution C: \\nHigh Alpha / p = 1\\n', fontdict = title_fontdict)\n",
        "ax[1,0].set_title('Solution D: \\nMedium Alpha / p = 1\\n', fontdict = title_fontdict)\n",
        "ax[1,1].set_title('Solution E: \\nMedium Alpha / p = 2\\n', fontdict = title_fontdict)\n",
        "ax[1,2].set_title('Solution F: \\nMedium Alpha / p = 3\\n', fontdict = title_fontdict)\n",
        "\n",
        "ax[0,0].set_xlabel('Dimension 1', fontdict = title_fontdict)\n",
        "ax[0,1].set_xlabel('Dimension 1', fontdict = title_fontdict)\n",
        "ax[0,2].set_xlabel('Dimension 1', fontdict = title_fontdict)\n",
        "ax[1,0].set_xlabel('Dimension 1', fontdict = title_fontdict)\n",
        "ax[1,1].set_xlabel('Dimension 1', fontdict = title_fontdict)\n",
        "ax[1,2].set_xlabel('Dimension 1', fontdict = title_fontdict)\n",
        "\n",
        "ax[0,0].set_ylabel('Dimension 1', fontdict = title_fontdict)\n",
        "ax[0,1].set_ylabel('Dimension 1', fontdict = title_fontdict)\n",
        "ax[0,2].set_ylabel('Dimension 1', fontdict = title_fontdict)\n",
        "ax[1,0].set_ylabel('Dimension 1', fontdict = title_fontdict)\n",
        "ax[1,1].set_ylabel('Dimension 1', fontdict = title_fontdict)\n",
        "ax[1,2].set_ylabel('Dimension 1', fontdict = title_fontdict)\n",
        "fig.tight_layout()\n",
        "fig.subplots_adjust(\n",
        "    hspace= .6,\n",
        "    wspace = .5\n",
        ")\n",
        "fig.show()\n",
        "if save_to:\n",
        "    fig.savefig(os.path.join(PATH_OUT, 'Fig5_hyperparameters.PNG'), dpi = 300)"
      ]
    },
    {
      "cell_type": "markdown",
      "metadata": {
        "id": "pEZd9pueYWk7"
      },
      "source": [
        "## Convergence Diagnostics"
      ]
    },
    {
      "cell_type": "code",
      "execution_count": null,
      "metadata": {
        "id": "Vh3gr44eYWk7"
      },
      "outputs": [],
      "source": [
        "# To obtain more details on how well the optimization converges, the user can change the 'verbose' parameter:\n",
        "\n",
        "EvoMDS(\n",
        "    alpha = .2,\n",
        "    p = 2,\n",
        "    mds_type = 'ordinal',\n",
        "    init = cmds_t,\n",
        "    verbose = 1).fit(D_t)\n",
        "\n",
        "EvoMDS(\n",
        "    alpha = .2,\n",
        "    p = 2,\n",
        "    mds_type = 'ordinal',\n",
        "    init = cmds_t,\n",
        "    n_iter_check = 50,\n",
        "    verbose = 2).fit(D_t)"
      ]
    },
    {
      "cell_type": "markdown",
      "metadata": {
        "id": "LyXEZ1CDYWk7"
      },
      "source": [
        "## Exploration"
      ]
    },
    {
      "cell_type": "code",
      "execution_count": null,
      "metadata": {
        "id": "x1W1PS6_YWk7"
      },
      "outputs": [],
      "source": [
        "# Once EvoMap ran, the user can explore its output in either static or dynamic maps. The two main functions are:\n",
        "# - draw_map\n",
        "# - draw_dynamic_map\n",
        "\n",
        "# #### Static Exploration via Draw Map\n",
        "\n",
        "# Use static maps to compare snapshots\n",
        "fig, ax = plt.subplots(1,3, figsize = (20,6))\n",
        "draw_map(X_t[0], label = labels, ax = ax[0])\n",
        "draw_map(X_t[10], label = labels, ax = ax[1])\n",
        "draw_map(X_t[19], label = labels, ax = ax[2])\n",
        "\n",
        "ax[0].set_title('EvoMap Snapshot: {0}'.format(periods[0]), **title_fontdict)\n",
        "ax[1].set_title('EvoMap Snapshot: {0}'.format(periods[10]), **title_fontdict)\n",
        "ax[2].set_title('EvoMap Snapshot: {0}'.format(periods[19]), **title_fontdict)\n",
        "\n",
        "fig.tight_layout()\n",
        "plt.show()\n",
        "if save_to:\n",
        "    fig.savefig(os.path.join(PATH_OUT, 'Fig6_static_snapshots.PNG'), dpi = 300)"
      ]
    },
    {
      "cell_type": "code",
      "execution_count": null,
      "metadata": {
        "id": "j4WUh4V6YWk7"
      },
      "outputs": [],
      "source": [
        "# Also, we can augment the maps by linking variables in our data to visual characteristics.\n",
        "#\n",
        "# For instance, we can color each point based on the firm's SIC code.\n",
        "\n",
        "sic_codes = []\n",
        "for firm in labels:\n",
        "    sic_codes.append(data.query('name1 == @firm').sic1.unique()[0])\n",
        "\n",
        "# Or, we can adjust the size of each point proportional to the firm's market value:\n",
        "sizes = []\n",
        "for firm in labels:\n",
        "    sizes.append(data.query('name1 == @firm').size1.unique()[0].round(2))\n",
        "\n",
        "# Such variables can be added to the map via the 'c' and 'size' arguments:\n",
        "sic = data.sic1\n",
        "\n",
        "fig, ax = plt.subplots(2,2,figsize = (11,8), layout = 'constrained')\n",
        "draw_map(X_t[0], show_axes = False, title = periods[0], ax = ax[0,0])\n",
        "draw_map(X_t[0], label = labels, show_axes = False, title = periods[0], ax = ax[0,1])\n",
        "draw_map(X_t[0], label = labels, show_axes = False, color = sic_codes, show_legend = False, title = periods[0], ax = ax[1,0])\n",
        "draw_map(X_t[0], label = labels, color = sic_codes, size = sizes, show_axes=False,\n",
        "title = periods[0], ax = ax[1,1])\n",
        "fig.tight_layout()\n",
        "plt.show()\n",
        "if save_to:\n",
        "    fig.savefig(os.path.join(PATH_OUT, 'Fig7_draw_map_illustrations.PNG'), dpi = 300)"
      ]
    },
    {
      "cell_type": "markdown",
      "metadata": {
        "id": "Ek532azZYWk7"
      },
      "source": [
        "## Drawing Dynamic Maps\n"
      ]
    },
    {
      "cell_type": "code",
      "execution_count": null,
      "metadata": {
        "id": "KnQNf6bCYWk7"
      },
      "outputs": [],
      "source": [
        "# Beyond individual snapshots, evomap allows to create dynamic maps, overlaying multiple\n",
        "# snapshots to illustrate changes over time. This is accomplished with draw_dynamic_map()\n",
        "# or draw_trajectories().\n",
        "\n",
        "# ### Dynamic Map\n",
        "#\n",
        "# Before we draw the map, we store the additional variables linked to color and size:\n",
        "sic_codes_t = []\n",
        "sizes_t = []\n",
        "for t in range(n_periods):\n",
        "    data_this = data.query('year == @periods[@t]')\n",
        "    sic_this = []\n",
        "    for firm in labels:\n",
        "        sic_this.append(data_this.query('name1 == @firm').sic1.unique()[0])\n",
        "\n",
        "    sic_codes_t.append(np.array(sic_this))\n",
        "\n",
        "    sizes_this = []\n",
        "    for firm in labels:\n",
        "        sizes_this.append(data_this.query('name1 == @firm').size1.unique()[0])\n",
        "\n",
        "    sizes_t.append(np.array(sizes_this))\n",
        "\n",
        "# We then draw the map, using these variabels as additional aesthetics:\n",
        "fig, ax = plt.subplots(1,2, figsize = (16,7))\n",
        "\n",
        "from evomap.printer import draw_dynamic_map\n",
        "draw_dynamic_map(X_t,\n",
        "                 label = labels,\n",
        "                 color_t = sic_codes_t,\n",
        "                 size_t = sizes_t,\n",
        "                 show_arrows = True,\n",
        "                 show_axes = True,\n",
        "                 ax = ax[0])\n"
      ]
    },
    {
      "cell_type": "markdown",
      "metadata": {
        "id": "2oA0SYb_YWk7"
      },
      "source": [
        "### Draw Trajectories\n"
      ]
    },
    {
      "cell_type": "code",
      "execution_count": null,
      "metadata": {
        "id": "GLjqq67KYWk7"
      },
      "outputs": [],
      "source": [
        "# Alternatively, draw_trajectories focuses solely on all objects' movement paths:\n",
        "from evomap.printer import draw_trajectories\n",
        "draw_trajectories(X_t,\n",
        "                  labels = labels,\n",
        "                  period_labels = periods,\n",
        "                  show_axes=True,\n",
        "                  ax = ax[1])\n",
        "\n",
        "ax[0].set_title('A: Dynamic Map')\n",
        "ax[1].set_title('B: Trajectories')\n",
        "\n",
        "fig.tight_layout()\n",
        "plt.show()\n",
        "if save_to:\n",
        "    fig.savefig(os.path.join(PATH_OUT, 'Fig8_dynamic_map_and_trajectories.PNG'), dpi = 300)"
      ]
    },
    {
      "cell_type": "markdown",
      "metadata": {
        "id": "UN5sfSA-YWk7"
      },
      "source": [
        "## Evaluation"
      ]
    },
    {
      "cell_type": "code",
      "execution_count": null,
      "metadata": {
        "id": "lEeJVmZDYWk7"
      },
      "outputs": [],
      "source": [
        "# Alternatively, draw_trajectories focuses solely on all objects' movement paths:\n",
        "from evomap.printer import draw_trajectories\n",
        "draw_trajectories(X_t,\n",
        "                  labels = labels,\n",
        "                  period_labels = periods,\n",
        "                  show_axes=True,\n",
        "                  ax = ax[1])\n",
        "\n",
        "ax[0].set_title('A: Dynamic Map')\n",
        "ax[1].set_title('B: Trajectories')\n",
        "\n",
        "fig.tight_layout()\n",
        "plt.show()\n",
        "if save_to:\n",
        "    fig.savefig(os.path.join(PATH_OUT, 'Fig8_dynamic_map_and_trajectories.PNG'), dpi = 300)"
      ]
    },
    {
      "cell_type": "markdown",
      "metadata": {
        "id": "Sfhe4bqEYWk7"
      },
      "source": [
        "## Evaluation"
      ]
    },
    {
      "cell_type": "code",
      "execution_count": null,
      "metadata": {
        "id": "1N1r4TYOYWk7"
      },
      "outputs": [],
      "source": [
        "# While visual exploration allows to explore the mapping results, it is essential to evalute how\n",
        "# well they represent the underlying data. This can be achieved through:\n",
        "\n",
        "# ### Cost Function Values\n",
        "cmds_indep = []\n",
        "for t in range(n_periods):\n",
        "  cmds_indep.append(CMDS().fit_transform(D_t[t]))\n",
        "\n",
        "evomds_indep = EvoMDS(\n",
        "    alpha = 0,\n",
        "    init = cmds_indep,\n",
        "    mds_type= 'ordinal').fit(D_t)\n",
        "\n",
        "print(evomds_indep.cost_static_avg_.round(4))\n",
        "print(evomds.cost_static_avg_.round(4))\n",
        "\n",
        "# ### Evaluation Metrics\n",
        "from evomap.metrics import *\n",
        "print(misalign_score(X_t).round(4))\n",
        "print(persistence_score(X_t).round(4))"
      ]
    },
    {
      "cell_type": "code",
      "execution_count": null,
      "metadata": {
        "id": "jeuxp7xmYWk7"
      },
      "outputs": [],
      "source": [
        "# For comparison, we also compute these metrics for two additional solutions:\n",
        "# - Independent Mapping\n",
        "# - Independent Mapping, aligned via Procrustes Analysis\n",
        "\n",
        "from evomap.transform import align_maps\n",
        "X_t_indep = EvoMDS(alpha = 0, mds_type = 'ordinal', init = cmds_indep).fit_transform(D_t)\n",
        "X_t_indep_aligned = align_maps(X_t_indep, X_t[0])\n",
        "\n",
        "# Overview of all results:\n",
        "from evomap.metrics import *\n",
        "\n",
        "misalign_score_t = []\n",
        "persistence_score_t = []\n",
        "\n",
        "for i, X in enumerate([X_t, X_t_indep, X_t_indep_aligned]):\n",
        "    misalign_score_t.append(misalign_score(X))\n",
        "    persistence_score_t.append(persistence_score(X))\n",
        "\n",
        "metrics = pd.DataFrame({'misalign_score': misalign_score_t,\n",
        "                        'persistence_score': persistence_score_t},\n",
        "                          index = ['EvoMDS', 'Independent MDS', 'Independent MDS + Alignment'])\n",
        "\n",
        "metrics['average_stress'] = [evomds.cost_static_avg_, evomds_indep.cost_static_avg_, evomds_indep.cost_static_avg_]\n",
        "\n",
        "# sort metrics such that the order is Independent MDS, Independent MDS + Alignment, EvoMDS\n",
        "metrics = metrics.reindex(['Independent MDS', 'Independent MDS + Alignment', 'EvoMDS'])\n",
        "print(metrics.round(4))\n",
        "\n",
        "metrics.round(4).to_csv(os.path.join(PATH_OUT, 'sect4_metrics.csv'))"
      ]
    },
    {
      "cell_type": "markdown",
      "metadata": {
        "id": "R9oBnG77YWk8"
      },
      "source": [
        "## Hyperparameter Tuning\n"
      ]
    },
    {
      "cell_type": "code",
      "execution_count": null,
      "metadata": {
        "id": "yT9j10SWYWk8"
      },
      "outputs": [],
      "source": [
        "# Then, perform the grid search:\n",
        "model = EvoMDS(init = cmds_t, mds_type = 'ordinal')\n",
        "\n",
        "df_grid_results = model.grid_search(\n",
        "    Xs = D_t,\n",
        "    param_grid = param_grid,\n",
        "    eval_functions =  metrics,\n",
        "    eval_labels = metric_labels,\n",
        "    kwargs = {\"input_format\" : 'dissimilarity'})\n",
        "\n",
        "# View the results:\n",
        "print(\"Grid results:\")\n",
        "print(df_grid_results.head())\n",
        "fig, ax = plt.subplots(1,3, figsize = (18, 6))\n",
        "df_grid_results.groupby('p')['Misalignment'].plot(legend = True, ax = ax[0])\n",
        "df_grid_results.groupby('p')['Persistence'].plot(legend = True, ax = ax[1])\n",
        "df_grid_results.groupby('p')['cost_static_avg'].plot(legend = True, ax = ax[2])\n",
        "\n",
        "ax[0].set_title('Hyperparameters vs. Misalignment', fontdict = title_fontdict_large)\n",
        "ax[0].set_xlabel('Alpha', fontdict = label_fontdict)\n",
        "ax[0].set_ylabel('Misalignment', fontdict = label_fontdict_large)\n",
        "ax[0].legend(labels = ['p = 1', 'p = 2'])\n",
        "ax[1].set_title('Hyperparameters vs. Persistence', fontdict = title_fontdict_large)\n",
        "ax[1].set_xlabel('Alpha', fontdict = label_fontdict)\n",
        "ax[1].set_ylabel('Persistence', fontdict = label_fontdict_large)\n",
        "ax[1].legend(labels = ['p = 1', 'p = 2'])\n",
        "ax[2].set_title('Hyperparameters vs. Average Stress', fontdict = title_fontdict_large)\n",
        "ax[2].set_xlabel('Alpha', fontdict = label_fontdict_large)\n",
        "ax[2].set_ylabel('Avg. Stress', fontdict = label_fontdict)\n",
        "ax[2].legend(labels = ['p = 1', 'p = 2'])\n",
        "\n",
        "fig.tight_layout()\n",
        "plt.show()\n",
        "if save_to:\n",
        "    fig.savefig(os.path.join(PATH_OUT, 'Fig9_grid_search.PNG'), dpi = 300)"
      ]
    },
    {
      "cell_type": "code",
      "execution_count": null,
      "metadata": {
        "id": "NE41lQ9zYWk8"
      },
      "outputs": [],
      "source": [
        "# To facilitate finding good hyperparameters, evomap allows the user to conduct a grid search over a\n",
        "# range of hyperparameter values.\n",
        "\n",
        "# ### Using the Grid Search\n",
        "\n",
        "# First, define the parameter space across which the grid search shall be completed\n",
        "\n",
        "param_grid = {\n",
        "    'alpha': np.linspace(0, 1.5, 15),\n",
        "    'p': [1,2]}\n",
        "\n",
        "# Next, define the metrics on which each parameter combination is to be evaluated\n",
        "\n",
        "from evomap.metrics import misalign_score, persistence_score, avg_hitrate_score\n",
        "metrics = [misalign_score, persistence_score, avg_hitrate_score]\n",
        "metric_labels = ['Misalignment', 'Persistence', 'Hitrate']"
      ]
    },
    {
      "cell_type": "markdown",
      "metadata": {
        "id": "pEk2Wcn8YWk8"
      },
      "source": [
        "## Unbalanced Data"
      ]
    },
    {
      "cell_type": "code",
      "execution_count": null,
      "metadata": {
        "id": "a0BwKMndYWk8"
      },
      "outputs": [],
      "source": [
        "# Dynamic mapping often encounters scenarios where the set of objects changes over time, such\n",
        "# as firms entering or exiting a market. The evomap package accommodates such unbalanced\n",
        "# data through inclusion vectors.\n",
        "#\n",
        "# First, we load an unbalanced sample for this illustration:\n",
        "\n",
        "data_unbalanced = load_tnic_sample_tech(unbalanced = True)\n",
        "data_unbalanced.groupby('name1').agg({'year': 'nunique'})\n",
        "\n",
        "# Then, transform the edgelist into a sequence of square matrices:\n",
        "from evomap.preprocessing import edgelist2matrices\n",
        "S_t, labels = edgelist2matrices(\n",
        "    data_unbalanced,\n",
        "    score_var='score',\n",
        "    id_var_i='name1',\n",
        "    id_var_j='name2',\n",
        "    time_var = 'year')\n",
        "\n",
        "# As the sample was unbalanced, the resultant matrices have unequal shape:\n",
        "print(S_t[0].shape)\n",
        "print(S_t[-1].shape)\n",
        "\n",
        "# Thus, we next expand the matrices to a common shape:\n",
        "from evomap.preprocessing import expand_matrices\n",
        "S_t, inc_t, labels = expand_matrices(S_t, labels)\n",
        "print(S_t[0].shape)\n",
        "\n",
        "# The inclusion vectors indicate which objects will be considered by the mapping algorithm in each period:\n",
        "print(inc_t[0])\n",
        "print(inc_t[-1])\n",
        "\n",
        "# Once the matrices are prepared, we can continue to transform them into dissimilarities as before:\n",
        "D_t = []\n",
        "for S in S_t:\n",
        "    D = sim2diss(S, transformation='mirror')\n",
        "    D_t.append(D)\n",
        "\n",
        "# We define starting positions:\n",
        "init_t = [np.concatenate([cmds, np.array([[0,0]])], axis = 0) for cmds in cmds_t]\n",
        "\n",
        "# And run EvoMap, passing the inclusion vectors to fit_transform:\n",
        "from evomap.mapping import EvoMDS\n",
        "X_t = EvoMDS(alpha = 0.75,\n",
        "             p = 2,\n",
        "             mds_type = 'ordinal',\n",
        "             init = init_t,\n",
        "             verbose=2).fit_transform(D_t, inclusions = inc_t)\n",
        "\n",
        "# Finally, we visualize the results in two snapshots.\n",
        "#\n",
        "# The left snapshot does not include Netflix, which only entered the sample during the observation period, while the right\n",
        "# snapshot includes the newly entered firm.\n",
        "from matplotlib import pyplot as plt\n",
        "from evomap.printer import draw_map\n",
        "fig, ax = plt.subplots(1,2,figsize=(14, 6))\n",
        "draw_map(X_t[0],\n",
        "         inclusions = inc_t[0],\n",
        "         label = labels,\n",
        "         ax = ax[0],\n",
        "         show_axes=True,\n",
        "         title = 'A: Snapshot in {0}'.format(periods[0]))\n",
        "draw_map(X_t[-1],\n",
        "         inclusions = inc_t[-1],\n",
        "         label = labels,\n",
        "         ax = ax[1],\n",
        "         show_axes = True,\n",
        "         title = 'B: Snapshot in {0}'.format(periods[-1]))\n",
        "fig.tight_layout()\n",
        "if save_to:\n",
        "    fig.savefig(os.path.join(PATH_OUT, 'Fig10_unbalanced.PNG'), dpi = 300)\n",
        "\n"
      ]
    },
    {
      "cell_type": "markdown",
      "metadata": {
        "id": "n_RySlm1YWk8"
      },
      "source": [
        "# Further Ressources\n"
      ]
    },
    {
      "cell_type": "code",
      "execution_count": null,
      "metadata": {
        "id": "Lz1BnS3tYWk8"
      },
      "outputs": [],
      "source": [
        "# For further usage examples, based on a larger dataset, see https://evomap.readthedocs.io/en/latest/dynamic%20mapping.html\n",
        "end_time = time.time()\n",
        "elapsed_time = end_time - start_time\n",
        "print(f\"Execution time: {elapsed_time:.2f} seconds\")"
      ]
    }
  ],
  "metadata": {
    "kernelspec": {
      "display_name": "3.11.10",
      "language": "python",
      "name": "python3"
    },
    "language_info": {
      "codemirror_mode": {
        "name": "ipython",
        "version": 3
      },
      "file_extension": ".py",
      "mimetype": "text/x-python",
      "name": "python",
      "nbconvert_exporter": "python",
      "pygments_lexer": "ipython3",
      "version": "3.11.10"
    },
    "colab": {
      "provenance": []
    }
  },
  "nbformat": 4,
  "nbformat_minor": 0
}